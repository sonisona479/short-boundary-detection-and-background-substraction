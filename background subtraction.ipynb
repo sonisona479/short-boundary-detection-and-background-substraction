{
 "cells": [
  {
   "cell_type": "code",
   "execution_count": null,
   "id": "5c35178d-8790-425c-befe-55d2fce7d37f",
   "metadata": {},
   "outputs": [],
   "source": [
    "# prompt: short boundary detection and background subtraction\n",
    "\n",
    "import cv2\n",
    "import numpy as np\n",
    "\n",
    "# Initialize video capture\n",
    "cap = cv2.VideoCapture(0)  # Use 0 for default webcam, or replace with video file path\n",
    "\n",
    "# Background subtractor (you can experiment with different methods)\n",
    "fgbg = cv2.createBackgroundSubtractorMOG2(detectShadows=False)  # MOG2 is often good\n",
    "\n",
    "while True:\n",
    "    ret, frame = cap.read()\n",
    "    if not ret:\n",
    "        break\n",
    "\n",
    "    # Apply background subtraction\n",
    "    fgmask = fgbg.apply(frame)\n",
    "\n",
    "    # Morphological operations to reduce noise (optional but recommended)\n",
    "    kernel = np.ones((5,5),np.uint8)\n",
    "    fgmask = cv2.morphologyEx(fgmask, cv2.MORPH_OPEN, kernel)  # Opening operation\n",
    "    fgmask = cv2.morphologyEx(fgmask, cv2.MORPH_CLOSE, kernel) # Closing operation\n",
    "\n",
    "    # Find contours in the foreground mask\n",
    "    contours, _ = cv2.findContours(fgmask, cv2.RETR_EXTERNAL, cv2.CHAIN_APPROX_SIMPLE)\n",
    "\n",
    "\n",
    "    # Draw bounding boxes around detected contours\n",
    "    for contour in contours:\n",
    "        if cv2.contourArea(contour) > 500: # Adjust minimum contour area as needed\n",
    "            (x, y, w, h) = cv2.boundingRect(contour)\n",
    "            cv2.rectangle(frame, (x, y), (x + w, y + h), (0, 255, 0), 2)\n",
    "\n",
    "    # Display results\n",
    "    cv2.imshow('Frame', frame)\n",
    "    cv2.imshow('FG Mask', fgmask)\n",
    "\n",
    "    if cv2.waitKey(1) & 0xFF == ord('q'):\n",
    "        break\n",
    "\n",
    "cap.release()\n",
    "cv2.destroyAllWindows()"
   ]
  },
  {
   "cell_type": "code",
   "execution_count": null,
   "id": "5d00ca21-5140-49a6-8275-e9da0913edf7",
   "metadata": {},
   "outputs": [],
   "source": []
  }
 ],
 "metadata": {
  "kernelspec": {
   "display_name": "Python 3 (ipykernel)",
   "language": "python",
   "name": "python3"
  },
  "language_info": {
   "codemirror_mode": {
    "name": "ipython",
    "version": 3
   },
   "file_extension": ".py",
   "mimetype": "text/x-python",
   "name": "python",
   "nbconvert_exporter": "python",
   "pygments_lexer": "ipython3",
   "version": "3.12.4"
  }
 },
 "nbformat": 4,
 "nbformat_minor": 5
}
